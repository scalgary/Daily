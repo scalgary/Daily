{
 "cells": [
  {
   "cell_type": "markdown",
   "id": "d912964d",
   "metadata": {},
   "source": [
    "# PySpark User Guide - Complete Reference"
   ]
  },
  {
   "cell_type": "markdown",
   "id": "b3fdcabf",
   "metadata": {},
   "source": [
    "## Quick Start & Setup"
   ]
  },
  {
   "cell_type": "code",
   "execution_count": 14,
   "id": "620d5b04",
   "metadata": {},
   "outputs": [],
   "source": [
    "from pyspark.sql import SparkSession\n",
    "from pyspark.sql.functions import *\n",
    "from pyspark.sql.types import *\n",
    "from pyspark.sql.window import Window\n",
    "import pandas as pd\n",
    "from pyspark.sql.functions import col\n",
    "spark = SparkSession.builder \\\n",
    "    .appName(\"DataProcessing\") \\\n",
    "    .config(\"spark.sql.adaptive.enabled\", \"true\") \\\n",
    "    .config(\"spark.sql.adaptive.coalescePartitions.enabled\", \"true\") \\\n",
    "    .config(\"spark.sql.adaptive.skewJoin.enabled\", \"true\") \\\n",
    "    .getOrCreate()    "
   ]
  },
  {
   "cell_type": "markdown",
   "id": "bc6da425",
   "metadata": {},
   "source": [
    "## Sample Data for Testing"
   ]
  },
  {
   "cell_type": "code",
   "execution_count": 15,
   "id": "bcb5dfca",
   "metadata": {},
   "outputs": [],
   "source": [
    "# Customer data\n",
    "customers_data = [\n",
    "    (1, \"John Doe\", \"john@email.com\", \"US\", \"Premium\"),\n",
    "    (2, \"Jane Smith\", \"jane@email.com\", \"CA\", \"Standard\"),\n",
    "    (3, \"Bob Johnson\", \"bob@email.com\", \"UK\", \"Premium\"),\n",
    "    (4, \"Alice Brown\", \"alice@email.com\", \"US\", \"Standard\"),\n",
    "    (5, \"Charlie Wilson\", \"charlie@email.com\", \"FR\", \"Premium\")\n",
    "]\n",
    "customers_schema = StructType([\n",
    "    StructField(\"customer_id\", IntegerType(), True),\n",
    "    StructField(\"name\", StringType(), True),\n",
    "    StructField(\"email\", StringType(), True),\n",
    "    StructField(\"country\", StringType(), True),\n",
    "    StructField(\"tier\", StringType(), True)\n",
    "])\n",
    "customers = spark.createDataFrame(customers_data, customers_schema)\n",
    "\n",
    "# Orders data\n",
    "orders_data = [\n",
    "    (101, 1, \"2024-01-15\", 150.0, \"Electronics\"),\n",
    "    (102, 2, \"2024-01-16\", 89.5, \"Books\"),\n",
    "    (103, 1, \"2024-01-17\", 200.0, \"Electronics\"),\n",
    "    (104, 3, \"2024-01-18\", 45.0, \"Books\"),\n",
    "    (105, 2, \"2024-01-19\", 310.0, \"Clothing\"),\n",
    "    (106, 4, \"2024-01-20\", 75.0, \"Electronics\"),\n",
    "    (107, 1, \"2024-01-21\", 125.0, \"Clothing\"),\n",
    "    (108, 6, \"2024-01-22\", 95.0, \"Books\")  # Orphaned order\n",
    "]\n",
    "orders_schema = StructType([\n",
    "    StructField(\"order_id\", IntegerType(), True),\n",
    "    StructField(\"customer_id\", IntegerType(), True),\n",
    "    StructField(\"order_date\", StringType(), True),\n",
    "    StructField(\"amount\", DoubleType(), True),\n",
    "    StructField(\"category\", StringType(), True)\n",
    "])\n",
    "orders = spark.createDataFrame(orders_data, orders_schema)\n",
    "\n",
    "# Products catalog (small table for broadcast)\n",
    "products_data = [\n",
    "    (\"Electronics\", 0.15, 30),\n",
    "    (\"Books\", 0.05, 14),\n",
    "    (\"Clothing\", 0.20, 7)\n",
    "]\n",
    "products_schema = StructType([\n",
    "    StructField(\"category\", StringType(), True),\n",
    "    StructField(\"commission_rate\", DoubleType(), True),\n",
    "    StructField(\"return_window_days\", IntegerType(), True)\n",
    "])\n",
    "products = spark.createDataFrame(products_data, products_schema)\n"
   ]
  },
  {
   "cell_type": "markdown",
   "id": "807bb3b1",
   "metadata": {},
   "source": [
    "\n",
    "## Advanced Joins\n",
    "\n",
    "### All Join Types with Examples\n",
    "\n",
    "#### Inner Join - Only Matching Records\n"
   ]
  },
  {
   "cell_type": "code",
   "execution_count": 3,
   "id": "884ee381",
   "metadata": {},
   "outputs": [
    {
     "name": "stderr",
     "output_type": "stream",
     "text": [
      "                                                                                \r"
     ]
    },
    {
     "name": "stdout",
     "output_type": "stream",
     "text": [
      "Inner join: 7 records\n",
      "+-----------+--------+------+\n",
      "|       name|order_id|amount|\n",
      "+-----------+--------+------+\n",
      "|   John Doe|     101| 150.0|\n",
      "|   John Doe|     103| 200.0|\n",
      "|   John Doe|     107| 125.0|\n",
      "| Jane Smith|     102|  89.5|\n",
      "| Jane Smith|     105| 310.0|\n",
      "|Bob Johnson|     104|  45.0|\n",
      "|Alice Brown|     106|  75.0|\n",
      "+-----------+--------+------+\n",
      "\n"
     ]
    }
   ],
   "source": [
    "\n",
    "inner_result = customers.join(orders, \"customer_id\", \"inner\")\n",
    "print(f\"Inner join: {inner_result.count()} records\")  # 7 records\n",
    "inner_result.select(\"name\", \"order_id\", \"amount\").show()"
   ]
  },
  {
   "cell_type": "markdown",
   "id": "5238f6e6",
   "metadata": {},
   "source": [
    "\n",
    "#### Left Join - All Customers\n"
   ]
  },
  {
   "cell_type": "code",
   "execution_count": 4,
   "id": "3f9abdae",
   "metadata": {},
   "outputs": [
    {
     "name": "stdout",
     "output_type": "stream",
     "text": [
      "Left join: 8 records\n"
     ]
    },
    {
     "name": "stderr",
     "output_type": "stream",
     "text": [
      "[Stage 24:=============================>                            (1 + 1) / 2]\r"
     ]
    },
    {
     "name": "stdout",
     "output_type": "stream",
     "text": [
      "+--------------+--------+------+\n",
      "|          name|order_id|amount|\n",
      "+--------------+--------+------+\n",
      "|      John Doe|     107| 125.0|\n",
      "|      John Doe|     103| 200.0|\n",
      "|      John Doe|     101| 150.0|\n",
      "|    Jane Smith|     105| 310.0|\n",
      "|    Jane Smith|     102|  89.5|\n",
      "|   Bob Johnson|     104|  45.0|\n",
      "|Charlie Wilson|    NULL|  NULL|\n",
      "|   Alice Brown|     106|  75.0|\n",
      "+--------------+--------+------+\n",
      "\n"
     ]
    },
    {
     "name": "stderr",
     "output_type": "stream",
     "text": [
      "                                                                                \r"
     ]
    }
   ],
   "source": [
    "left_result = customers.join(orders, \"customer_id\", \"left\")\n",
    "print(f\"Left join: {left_result.count()} records\")  # 8 records (Charlie has no orders)\n",
    "left_result.select(\"name\", \"order_id\", \"amount\").show()"
   ]
  },
  {
   "cell_type": "code",
   "execution_count": 9,
   "id": "4b8aab23",
   "metadata": {},
   "outputs": [
    {
     "name": "stderr",
     "output_type": "stream",
     "text": [
      "                                                                                \r"
     ]
    },
    {
     "name": "stdout",
     "output_type": "stream",
     "text": [
      "+-----------+--------+-----------+----------+------+---------------+------------------+\n",
      "|   category|order_id|customer_id|order_date|amount|commission_rate|return_window_days|\n",
      "+-----------+--------+-----------+----------+------+---------------+------------------+\n",
      "|Electronics|     101|          1|2024-01-15| 150.0|           0.15|                30|\n",
      "|Electronics|     103|          1|2024-01-17| 200.0|           0.15|                30|\n",
      "|      Books|     102|          2|2024-01-16|  89.5|           0.05|                14|\n",
      "|      Books|     104|          3|2024-01-18|  45.0|           0.05|                14|\n",
      "|Electronics|     106|          4|2024-01-20|  75.0|           0.15|                30|\n",
      "|   Clothing|     105|          2|2024-01-19| 310.0|            0.2|                 7|\n",
      "|   Clothing|     107|          1|2024-01-21| 125.0|            0.2|                 7|\n",
      "|      Books|     108|          6|2024-01-22|  95.0|           0.05|                14|\n",
      "+-----------+--------+-----------+----------+------+---------------+------------------+\n",
      "\n"
     ]
    }
   ],
   "source": [
    "orders.join(products,\"category\",\"left\").show()"
   ]
  },
  {
   "cell_type": "code",
   "execution_count": null,
   "id": "69dda25b",
   "metadata": {},
   "outputs": [],
   "source": []
  },
  {
   "cell_type": "markdown",
   "id": "c0faa9b7",
   "metadata": {},
   "source": [
    "\n",
    "#### Anti Join - Customers Without Orders\n"
   ]
  },
  {
   "cell_type": "code",
   "execution_count": 5,
   "id": "2611d9a7",
   "metadata": {},
   "outputs": [
    {
     "name": "stderr",
     "output_type": "stream",
     "text": [
      "                                                                                \r"
     ]
    },
    {
     "name": "stdout",
     "output_type": "stream",
     "text": [
      "Anti join: 1 records\n"
     ]
    },
    {
     "name": "stderr",
     "output_type": "stream",
     "text": [
      "                                                                                \r"
     ]
    },
    {
     "name": "stdout",
     "output_type": "stream",
     "text": [
      "+--------------+-----------------+\n",
      "|          name|            email|\n",
      "+--------------+-----------------+\n",
      "|Charlie Wilson|charlie@email.com|\n",
      "+--------------+-----------------+\n",
      "\n"
     ]
    }
   ],
   "source": [
    "\n",
    "anti_result = customers.join(orders, \"customer_id\", \"anti\")\n",
    "print(f\"Anti join: {anti_result.count()} records\")  # 1 record (Charlie)\n",
    "anti_result.select(\"name\", \"email\").show()\n",
    "        "
   ]
  },
  {
   "cell_type": "markdown",
   "id": "98e39dd2",
   "metadata": {},
   "source": [
    "\n",
    "### Broadcast Joins - Performance Optimization\n",
    "\n",
    "#### When to Use Broadcast Joins\n",
    "- Small table < 200MB (configurable via `spark.sql.autoBroadcastJoinThreshold`)\n",
    "- One table much smaller than the other Ratio > 10:1 entre les tailles des tables\n",
    "- Avoiding shuffle operations for better performance\n"
   ]
  },
  {
   "cell_type": "code",
   "execution_count": 10,
   "id": "e0769f8c",
   "metadata": {},
   "outputs": [
    {
     "name": "stdout",
     "output_type": "stream",
     "text": [
      "+--------+-----------+---------------+------+\n",
      "|order_id|   category|commission_rate|amount|\n",
      "+--------+-----------+---------------+------+\n",
      "|     101|Electronics|           0.15| 150.0|\n",
      "|     102|      Books|           0.05|  89.5|\n",
      "|     103|Electronics|           0.15| 200.0|\n",
      "|     104|      Books|           0.05|  45.0|\n",
      "|     105|   Clothing|            0.2| 310.0|\n",
      "|     106|Electronics|           0.15|  75.0|\n",
      "|     107|   Clothing|            0.2| 125.0|\n",
      "|     108|      Books|           0.05|  95.0|\n",
      "+--------+-----------+---------------+------+\n",
      "\n"
     ]
    }
   ],
   "source": [
    "from pyspark.sql.functions import broadcast\n",
    "\n",
    "# Manual broadcast (force small table to all executors)\n",
    "broadcast_result = orders.join(broadcast(products), \"category\", \"left\")\n",
    "broadcast_result.select(\"order_id\", \"category\", \"commission_rate\", \"amount\").show()\n"
   ]
  },
  {
   "cell_type": "code",
   "execution_count": null,
   "id": "02aa292d",
   "metadata": {},
   "outputs": [],
   "source": []
  },
  {
   "cell_type": "code",
   "execution_count": null,
   "id": "b365b8bf",
   "metadata": {},
   "outputs": [
    {
     "name": "stdout",
     "output_type": "stream",
     "text": [
      "+--------+------+---------------+------------------+\n",
      "|order_id|amount|commission_rate|        commission|\n",
      "+--------+------+---------------+------------------+\n",
      "|     101| 150.0|           0.15|              22.5|\n",
      "|     102|  89.5|           0.05|4.4750000000000005|\n",
      "|     103| 200.0|           0.15|              30.0|\n",
      "|     104|  45.0|           0.05|              2.25|\n",
      "|     105| 310.0|            0.2|              62.0|\n",
      "|     106|  75.0|           0.15|             11.25|\n",
      "|     107| 125.0|            0.2|              25.0|\n",
      "|     108|  95.0|           0.05|              4.75|\n",
      "+--------+------+---------------+------------------+\n",
      "\n"
     ]
    }
   ],
   "source": [
    "\n",
    "# Calculate commission using broadcast join\n",
    "commission_calc = orders.join(broadcast(products), \"category\", \"left\") \\\n",
    "    .withColumn(\"commission\", col(\"amount\") * col(\"commission_rate\")) \\\n",
    "    .select(\"order_id\", \"amount\", \"commission_rate\", \"commission\")\n",
    "commission_calc.show()\n"
   ]
  },
  {
   "cell_type": "markdown",
   "id": "73724c9e",
   "metadata": {},
   "source": [
    "#### Performance Comparison"
   ]
  },
  {
   "cell_type": "code",
   "execution_count": 17,
   "id": "c3f2af2f",
   "metadata": {},
   "outputs": [
    {
     "name": "stdout",
     "output_type": "stream",
     "text": [
      "=== Without Broadcast ===\n",
      "== Parsed Logical Plan ==\n",
      "'Join UsingJoin(LeftOuter, [category])\n",
      ":- LogicalRDD [order_id#183, customer_id#184, order_date#185, amount#186, category#187], false\n",
      "+- LogicalRDD [category#188, commission_rate#189, return_window_days#190], false\n",
      "\n",
      "== Analyzed Logical Plan ==\n",
      "category: string, order_id: int, customer_id: int, order_date: string, amount: double, commission_rate: double, return_window_days: int\n",
      "Project [category#187, order_id#183, customer_id#184, order_date#185, amount#186, commission_rate#189, return_window_days#190]\n",
      "+- Join LeftOuter, (category#187 = category#188)\n",
      "   :- LogicalRDD [order_id#183, customer_id#184, order_date#185, amount#186, category#187], false\n",
      "   +- LogicalRDD [category#188, commission_rate#189, return_window_days#190], false\n",
      "\n",
      "== Optimized Logical Plan ==\n",
      "Project [category#187, order_id#183, customer_id#184, order_date#185, amount#186, commission_rate#189, return_window_days#190]\n",
      "+- Join LeftOuter, (category#187 = category#188)\n",
      "   :- LogicalRDD [order_id#183, customer_id#184, order_date#185, amount#186, category#187], false\n",
      "   +- Filter isnotnull(category#188)\n",
      "      +- LogicalRDD [category#188, commission_rate#189, return_window_days#190], false\n",
      "\n",
      "== Physical Plan ==\n",
      "AdaptiveSparkPlan isFinalPlan=false\n",
      "+- Project [category#187, order_id#183, customer_id#184, order_date#185, amount#186, commission_rate#189, return_window_days#190]\n",
      "   +- SortMergeJoin [category#187], [category#188], LeftOuter\n",
      "      :- Sort [category#187 ASC NULLS FIRST], false, 0\n",
      "      :  +- Exchange hashpartitioning(category#187, 200), ENSURE_REQUIREMENTS, [plan_id=1652]\n",
      "      :     +- Scan ExistingRDD[order_id#183,customer_id#184,order_date#185,amount#186,category#187]\n",
      "      +- Sort [category#188 ASC NULLS FIRST], false, 0\n",
      "         +- Exchange hashpartitioning(category#188, 200), ENSURE_REQUIREMENTS, [plan_id=1653]\n",
      "            +- Filter isnotnull(category#188)\n",
      "               +- Scan ExistingRDD[category#188,commission_rate#189,return_window_days#190]\n",
      "\n"
     ]
    }
   ],
   "source": [
    "\n",
    "# Without broadcast (creates shuffle)\n",
    "no_broadcast = orders.join(products, \"category\", \"left\")\n",
    "\n",
    "# With broadcast (no shuffle)\n",
    "with_broadcast = orders.join(broadcast(products), \"category\", \"left\")\n",
    "\n",
    "# Check execution plan\n",
    "print(\"=== Without Broadcast ===\")\n",
    "no_broadcast.explain(True)\n"
   ]
  },
  {
   "cell_type": "code",
   "execution_count": 18,
   "id": "383b936a",
   "metadata": {},
   "outputs": [
    {
     "name": "stdout",
     "output_type": "stream",
     "text": [
      "\n",
      "=== With Broadcast ===\n",
      "== Parsed Logical Plan ==\n",
      "'Join UsingJoin(LeftOuter, [category])\n",
      ":- LogicalRDD [order_id#183, customer_id#184, order_date#185, amount#186, category#187], false\n",
      "+- ResolvedHint (strategy=broadcast)\n",
      "   +- LogicalRDD [category#188, commission_rate#189, return_window_days#190], false\n",
      "\n",
      "== Analyzed Logical Plan ==\n",
      "category: string, order_id: int, customer_id: int, order_date: string, amount: double, commission_rate: double, return_window_days: int\n",
      "Project [category#187, order_id#183, customer_id#184, order_date#185, amount#186, commission_rate#189, return_window_days#190]\n",
      "+- Join LeftOuter, (category#187 = category#188)\n",
      "   :- LogicalRDD [order_id#183, customer_id#184, order_date#185, amount#186, category#187], false\n",
      "   +- ResolvedHint (strategy=broadcast)\n",
      "      +- LogicalRDD [category#188, commission_rate#189, return_window_days#190], false\n",
      "\n",
      "== Optimized Logical Plan ==\n",
      "Project [category#187, order_id#183, customer_id#184, order_date#185, amount#186, commission_rate#189, return_window_days#190]\n",
      "+- Join LeftOuter, (category#187 = category#188), rightHint=(strategy=broadcast)\n",
      "   :- LogicalRDD [order_id#183, customer_id#184, order_date#185, amount#186, category#187], false\n",
      "   +- Filter isnotnull(category#188)\n",
      "      +- LogicalRDD [category#188, commission_rate#189, return_window_days#190], false\n",
      "\n",
      "== Physical Plan ==\n",
      "AdaptiveSparkPlan isFinalPlan=false\n",
      "+- Project [category#187, order_id#183, customer_id#184, order_date#185, amount#186, commission_rate#189, return_window_days#190]\n",
      "   +- BroadcastHashJoin [category#187], [category#188], LeftOuter, BuildRight, false\n",
      "      :- Scan ExistingRDD[order_id#183,customer_id#184,order_date#185,amount#186,category#187]\n",
      "      +- BroadcastExchange HashedRelationBroadcastMode(List(input[0, string, false]),false), [plan_id=1678]\n",
      "         +- Filter isnotnull(category#188)\n",
      "            +- Scan ExistingRDD[category#188,commission_rate#189,return_window_days#190]\n",
      "\n"
     ]
    }
   ],
   "source": [
    "\n",
    "print(\"\\n=== With Broadcast ===\")  \n",
    "with_broadcast.explain(True)\n",
    "\n"
   ]
  },
  {
   "cell_type": "markdown",
   "id": "02180125",
   "metadata": {},
   "source": [
    "### Complex Join Conditions\n"
   ]
  },
  {
   "cell_type": "code",
   "execution_count": 19,
   "id": "82cef109",
   "metadata": {},
   "outputs": [
    {
     "name": "stderr",
     "output_type": "stream",
     "text": [
      "[Stage 67:>                                                         (0 + 2) / 2]\r"
     ]
    },
    {
     "name": "stdout",
     "output_type": "stream",
     "text": [
      "+--------+--------+------+-------+\n",
      "|    name|order_id|amount|   tier|\n",
      "+--------+--------+------+-------+\n",
      "|John Doe|     101| 150.0|Premium|\n",
      "|John Doe|     103| 200.0|Premium|\n",
      "|John Doe|     107| 125.0|Premium|\n",
      "+--------+--------+------+-------+\n",
      "\n"
     ]
    },
    {
     "name": "stderr",
     "output_type": "stream",
     "text": [
      "                                                                                \r"
     ]
    }
   ],
   "source": [
    "complex_join = orders.join(\n",
    "    customers,\n",
    "    (orders.customer_id == customers.customer_id) & \n",
    "    (customers.tier == \"Premium\") &\n",
    "    (orders.amount > 100),\n",
    "    \"inner\"\n",
    ")\n",
    "complex_join.select(\"name\", \"order_id\", \"amount\", \"tier\").show()"
   ]
  },
  {
   "cell_type": "code",
   "execution_count": null,
   "id": "26c60dd9",
   "metadata": {},
   "outputs": [],
   "source": []
  }
 ],
 "metadata": {
  "kernelspec": {
   "display_name": "daily",
   "language": "python",
   "name": "python3"
  },
  "language_info": {
   "codemirror_mode": {
    "name": "ipython",
    "version": 3
   },
   "file_extension": ".py",
   "mimetype": "text/x-python",
   "name": "python",
   "nbconvert_exporter": "python",
   "pygments_lexer": "ipython3",
   "version": "3.11.13"
  }
 },
 "nbformat": 4,
 "nbformat_minor": 5
}
